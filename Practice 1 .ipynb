{
 "cells": [
  {
   "cell_type": "markdown",
   "id": "32734862",
   "metadata": {},
   "source": [
    "# Data Science Tools and Ecosystem"
   ]
  },
  {
   "cell_type": "markdown",
   "id": "9b9e2069",
   "metadata": {},
   "source": [
    "In this notebook, Data Science Tools and Ecosystem are summarized."
   ]
  },
  {
   "cell_type": "markdown",
   "id": "6297eec4",
   "metadata": {},
   "source": [
    "Some of the popular languages that Data Scientists use are:\n",
    "1. Python\n",
    "2. R\n",
    "3. Julia\n",
    "4. Scala"
   ]
  },
  {
   "cell_type": "markdown",
   "id": "7f3c5b4b",
   "metadata": {},
   "source": [
    "Some of the commonly used libraries used by Data Scientists include:\n",
    "1. Numpy\n",
    "2. Pandas\n",
    "3. Seaborn\n",
    "4. Matplotlib\n",
    "5. ggplot"
   ]
  },
  {
   "cell_type": "markdown",
   "id": "54a831f2",
   "metadata": {},
   "source": [
    "# Data Science Tools"
   ]
  },
  {
   "cell_type": "markdown",
   "id": "afd91a8e",
   "metadata": {},
   "source": [
    "1. Visual Studio Code"
   ]
  },
  {
   "cell_type": "markdown",
   "id": "193afc34",
   "metadata": {},
   "source": [
    "2. RStudio"
   ]
  },
  {
   "cell_type": "markdown",
   "id": "438d13d7",
   "metadata": {},
   "source": [
    "3. IBM Watson Studio"
   ]
  },
  {
   "cell_type": "markdown",
   "id": "47b13dfa",
   "metadata": {},
   "source": [
    "4. Jupyter Notebook"
   ]
  },
  {
   "cell_type": "markdown",
   "id": "6c7df539",
   "metadata": {},
   "source": [
    "# Below are a few examples of evaluating arithmetic expressions in Python"
   ]
  },
  {
   "cell_type": "code",
   "execution_count": 5,
   "id": "7d2d1ae3",
   "metadata": {},
   "outputs": [
    {
     "name": "stdout",
     "output_type": "stream",
     "text": [
      "Addition is:  15\n",
      "Subtraction is:  5\n",
      "Mutliplication is:  50\n",
      "Divivsion is:  2.0\n",
      "Modulus is:  0\n"
     ]
    }
   ],
   "source": [
    "x = 10\n",
    "y = 5\n",
    "\n",
    "print(\"Addition is: \",x+y)\n",
    "print(\"Subtraction is: \",x-y)\n",
    "print(\"Mutliplication is: \",x*y)\n",
    "print(\"Divivsion is: \",x/y)\n",
    "print(\"Modulus is: \",x%y)"
   ]
  },
  {
   "cell_type": "code",
   "execution_count": 6,
   "id": "05bfb742",
   "metadata": {},
   "outputs": [
    {
     "data": {
      "text/plain": [
       "17"
      ]
     },
     "execution_count": 6,
     "metadata": {},
     "output_type": "execute_result"
    }
   ],
   "source": [
    "# This a simple arithmetic expression to mutiply then add integers\n",
    "(3*4)+5"
   ]
  },
  {
   "cell_type": "code",
   "execution_count": 7,
   "id": "4b99bce9",
   "metadata": {},
   "outputs": [
    {
     "name": "stdout",
     "output_type": "stream",
     "text": [
      "Enter the number of minutes: 200\n",
      "200 in hours is:  3.3333333333333335\n"
     ]
    }
   ],
   "source": [
    "# This will convert 200 minutes to hours by diving by 60\n",
    "\n",
    "min_time = int(input(\"Enter the number of minutes: \"))\n",
    "\n",
    "hr_time = min_time/60\n",
    "\n",
    "print(min_time, \"in hours is: \",hr_time)"
   ]
  },
  {
   "cell_type": "markdown",
   "id": "685c588d",
   "metadata": {},
   "source": [
    "**Objectives:**\n",
    "- Jupyter Notebook\n",
    "- Python Kernel\n",
    "- Arithmetic Operations"
   ]
  },
  {
   "cell_type": "markdown",
   "id": "64f69841",
   "metadata": {},
   "source": [
    "## Author\n",
    "Om Valia"
   ]
  },
  {
   "cell_type": "code",
   "execution_count": null,
   "id": "ccf79cdd",
   "metadata": {},
   "outputs": [],
   "source": []
  }
 ],
 "metadata": {
  "kernelspec": {
   "display_name": "Python 3 (ipykernel)",
   "language": "python",
   "name": "python3"
  },
  "language_info": {
   "codemirror_mode": {
    "name": "ipython",
    "version": 3
   },
   "file_extension": ".py",
   "mimetype": "text/x-python",
   "name": "python",
   "nbconvert_exporter": "python",
   "pygments_lexer": "ipython3",
   "version": "3.11.5"
  }
 },
 "nbformat": 4,
 "nbformat_minor": 5
}
